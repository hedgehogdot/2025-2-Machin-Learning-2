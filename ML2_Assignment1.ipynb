{
  "nbformat": 4,
  "nbformat_minor": 0,
  "metadata": {
    "colab": {
      "provenance": [],
      "authorship_tag": "ABX9TyOGFRYjrpM2Pab6DTbVAaMA",
      "include_colab_link": true
    },
    "kernelspec": {
      "name": "python3",
      "display_name": "Python 3"
    },
    "language_info": {
      "name": "python"
    }
  },
  "cells": [
    {
      "cell_type": "markdown",
      "metadata": {
        "id": "view-in-github",
        "colab_type": "text"
      },
      "source": [
        "<a href=\"https://colab.research.google.com/github/hedgehogdot/2025-2-Machin-Learning-2/blob/main/ML2_Assignment1.ipynb\" target=\"_parent\"><img src=\"https://colab.research.google.com/assets/colab-badge.svg\" alt=\"Open In Colab\"/></a>"
      ]
    },
    {
      "cell_type": "markdown",
      "source": [
        "## **(a)** Implement a k-NN algorithm (k = 5) using an iterative method (i.e., using for loop) to classify a single new example. Write down your observations."
      ],
      "metadata": {
        "id": "36AWEGUCzIXt"
      }
    },
    {
      "cell_type": "code",
      "source": [
        "import torch\n",
        "from torchvision import datasets, transforms\n",
        "\n",
        "train_dataset = datasets.MNIST(root=\"./data\", train=True, download=True, transform=transforms)\n",
        "test_dataset = datasets.MNIST(root=\"./data\", train=False, download=True, transform=transforms)"
      ],
      "metadata": {
        "colab": {
          "base_uri": "https://localhost:8080/"
        },
        "id": "3niC3DVyzQIb",
        "outputId": "0eae3a3f-12b3-4a4e-8d0f-2a49b48dd1bc"
      },
      "execution_count": 1,
      "outputs": [
        {
          "output_type": "stream",
          "name": "stderr",
          "text": [
            "100%|██████████| 9.91M/9.91M [00:00<00:00, 57.5MB/s]\n",
            "100%|██████████| 28.9k/28.9k [00:00<00:00, 1.68MB/s]\n",
            "100%|██████████| 1.65M/1.65M [00:00<00:00, 14.1MB/s]\n",
            "100%|██████████| 4.54k/4.54k [00:00<00:00, 7.47MB/s]\n"
          ]
        }
      ]
    },
    {
      "cell_type": "code",
      "source": [
        "device = torch.device(\"cuda\" if torch.cuda.is_available() else \"cpu\")\n",
        "\n",
        "train_data = train_dataset.data.view(-1, 28*28).float().to(device)\n",
        "train_labels = train_dataset.targets.to(device)\n",
        "\n",
        "index = 7843\n",
        "test_sample = test_dataset.data[index].view(-1, 28*28).float().to(device)  #1차원 벡터로 변환\n",
        "test_label = test_dataset.targets[index].item()\n",
        "\n",
        "k = 5\n",
        "distances = []\n",
        "\n",
        "for i in range(len(train_data)):\n",
        "    dist = torch.dist(train_data[i], test_sample, p=2)\n",
        "    distances.append((dist.item(), train_labels[i].item()))\n",
        "\n",
        "distances.sort(key=lambda x: x[0])\n",
        "neighbors = distances[:k]\n",
        "\n",
        "label_count = {}\n",
        "for d, lbl in neighbors:\n",
        "    label_count[lbl] = label_count.get(lbl, 0) + 1\n",
        "\n",
        "predicted_label = max(label_count, key=label_count.get)\n",
        "\n",
        "print(\"Neighbors' labels:\", [lbl for _, lbl in neighbors])\n",
        "print(f\"Predicted label: {predicted_label}\")\n",
        "print(f\"Actual label: {test_label}\")"
      ],
      "metadata": {
        "colab": {
          "base_uri": "https://localhost:8080/"
        },
        "id": "t4IbhSqn2o31",
        "outputId": "ea689c6f-e9ce-4eed-c0b2-9f841b1272ac"
      },
      "execution_count": 2,
      "outputs": [
        {
          "output_type": "stream",
          "name": "stdout",
          "text": [
            "Neighbors' labels: [6, 6, 6, 6, 6]\n",
            "Predicted label: 6\n",
            "Actual label: 6\n"
          ]
        }
      ]
    },
    {
      "cell_type": "markdown",
      "source": [
        "## **(b)** Implement a k-NN algorithm (k = 5) using the broadcasting concept you learned in the laboratory session to classify a single new example."
      ],
      "metadata": {
        "id": "Bt5yEI_Z6QDO"
      }
    },
    {
      "cell_type": "code",
      "source": [
        "# Adjust the dimensions of the data\n",
        "train_data_gpu = train_data.view(len(train_data), -1).to(device)\n",
        "train_labels_gpu = train_labels.to(device)\n",
        "example_gpu = test_sample.view(1, -1).to(device)\n",
        "\n",
        "# Calculate the Euclidean distance using broadcasting\n",
        "dist_broadcast = torch.sqrt(torch.sum((train_data_gpu - example_gpu) ** 2, dim=1))\n",
        "\n",
        "nearest = []\n",
        "\n",
        "# Loop to select k nearest neighbors\n",
        "for i in range(len(dist_broadcast)):\n",
        "    dist = dist_broadcast[i]\n",
        "\n",
        "    # Store the distance and label based on distance\n",
        "    if len(nearest) < k:\n",
        "        nearest.append((dist, train_labels_gpu[i]))\n",
        "        nearest.sort(key=lambda x: x[0])\n",
        "    else:\n",
        "        # If current distance is closer than the farthest neighbor, replace\n",
        "        if dist < nearest[-1][0]:\n",
        "            nearest[-1] = (dist, train_labels_gpu[i])\n",
        "            nearest.sort(key=lambda x: x[0])\n",
        "\n",
        "# Extract labels of the neighbors\n",
        "neighbor_labels = [label.item() for _, label in nearest]\n",
        "\n",
        "# Count the frequency of each label\n",
        "label_vote = {}\n",
        "for label in neighbor_labels:\n",
        "    if label in label_vote:\n",
        "        label_vote[label] += 1\n",
        "    else:\n",
        "        label_vote[label] = 1\n",
        "\n",
        "# Select the label with the highest frequency\n",
        "result = max(label_vote, key=label_vote.get)\n",
        "\n",
        "# Print results\n",
        "print(f'Neighbor : {neighbor_labels}')\n",
        "print(f'Classifying result: {result}')\n",
        "\n",
        "# Retrieve the true label\n",
        "true_result = test_label\n",
        "print(f'Actual result : {true_result}')"
      ],
      "metadata": {
        "colab": {
          "base_uri": "https://localhost:8080/"
        },
        "id": "yXfLSApr6C_m",
        "outputId": "cccc8e55-7e67-4025-eefa-cd7d0c6d881f"
      },
      "execution_count": 3,
      "outputs": [
        {
          "output_type": "stream",
          "name": "stdout",
          "text": [
            "Neighbor : [6, 6, 6, 6, 6]\n",
            "Classifying result: 6\n",
            "Actual result : 6\n"
          ]
        }
      ]
    },
    {
      "cell_type": "markdown",
      "source": [
        "## **(c)** Now, extend a k-NN algorithm from (b) to perform classification over all digits for all new images at once, using broadcasting (not just a single image). Write down yourobservations. Can you find any issue?\n",
        "\n"
      ],
      "metadata": {
        "id": "a7CBnF0G7gkB"
      }
    },
    {
      "cell_type": "markdown",
      "source": [
        "### broadcasting all test x all train at once -> failed due to memory explosion"
      ],
      "metadata": {
        "id": "6CpiGLYQBU0-"
      }
    },
    {
      "cell_type": "code",
      "source": [
        "test_data = test_dataset.data.view(len(test_dataset), -1).float().to(device)\n",
        "train_data = train_dataset.data.view(len(train_dataset), -1).float().to(device)\n",
        "\n",
        "# Broadcasting try\n",
        "dist_broadcast_all = torch.sqrt(torch.sum((test_data.unsqueeze(1) - train_data) ** 2, dim=2))\n",
        "print(dist_broadcast_all.shape)\n"
      ],
      "metadata": {
        "id": "EopZnYyT_P0i"
      },
      "execution_count": null,
      "outputs": []
    },
    {
      "cell_type": "code",
      "source": [
        "import heapq\n",
        "\n",
        "device = torch.device(\"cpu\")\n",
        "\n",
        "train_data_cpu = train_data.view(len(train_data), -1).to(device)\n",
        "train_labels_cpu = train_labels.to(device)\n",
        "test_data_cpu = test_data.view(len(test_data), -1).to(device)\n",
        "test_labels_cpu = test_labels.to(device)\n",
        "\n",
        "result_all = []\n",
        "\n",
        "for i in range(len(test_data_cpu)):\n",
        "    test_one = test_data_cpu[i].unsqueeze(0)\n",
        "\n",
        "    if i % 500 == 0:\n",
        "        print(f\"Process {i}/{len(test_data_cpu)}\")\n",
        "\n",
        "    dist_broadcast = torch.sqrt(torch.sum((train_data_cpu - test_one) ** 2, dim=1))\n",
        "\n",
        "    nearest = []\n",
        "    k = 5\n",
        "    for j in range(len(dist_broadcast)):\n",
        "        dist = dist_broadcast[j].item()\n",
        "        if len(nearest) < k:\n",
        "            heapq.heappush(nearest, (-dist, train_labels_cpu[j].item()))  # Max heap\n",
        "        else:\n",
        "            if dist < -nearest[0][0]:  # 가장 먼 이웃보다 가까우면 교체\n",
        "                heapq.heappop(nearest)\n",
        "                heapq.heappush(nearest, (-dist, train_labels_cpu[j].item()))\n",
        "\n",
        "    neighbor_labels = torch.tensor([label for _, label in nearest])\n",
        "    result = torch.mode(neighbor_labels, dim=0).values.item()\n",
        "    result_all.append(result)\n",
        "\n",
        "result_all_tensor = torch.tensor(result_all)\n",
        "differ = result_all_tensor - test_labels_cpu\n",
        "\n",
        "correct_num = (differ == 0).sum().item()\n",
        "accuracy = correct_num / len(test_labels_cpu) * 100\n",
        "\n",
        "print(f\"Results for all images: {result_all}\")\n",
        "print(f\"Classification accuracy: {accuracy:.3f}%\")\n"
      ],
      "metadata": {
        "colab": {
          "base_uri": "https://localhost:8080/"
        },
        "id": "Xr-VnFY77cxE",
        "outputId": "eaabcd10-bde3-4927-edc2-ba08b5ed5785"
      },
      "execution_count": 10,
      "outputs": [
        {
          "output_type": "stream",
          "name": "stdout",
          "text": [
            "Process 0/10000\n",
            "Process 500/10000\n",
            "Process 1000/10000\n",
            "Process 1500/10000\n",
            "Process 2000/10000\n",
            "Process 2500/10000\n",
            "Process 3000/10000\n",
            "Process 3500/10000\n",
            "Process 4000/10000\n",
            "Process 4500/10000\n",
            "Process 5000/10000\n",
            "Process 5500/10000\n",
            "Process 6000/10000\n",
            "Process 6500/10000\n",
            "Process 7000/10000\n",
            "Process 7500/10000\n",
            "Process 8000/10000\n",
            "Process 8500/10000\n",
            "Process 9000/10000\n",
            "Process 9500/10000\n",
            "Classification accuracy: 96.880%\n"
          ]
        }
      ]
    },
    {
      "cell_type": "markdown",
      "source": [
        "## **(d)** If there is any issue from (c), what is the cause of the issue? Improve the algorithm from (c) by resolving the issue you find from (c)\n"
      ],
      "metadata": {
        "id": "9osahUthFAgc"
      }
    },
    {
      "cell_type": "code",
      "source": [
        "test_data = test_dataset.data.view(len(test_dataset), -1).float().to(device)\n",
        "test_labels = test_dataset.targets.to(device)\n",
        "\n",
        "# torch.cdist() → 두 텐서 간의 pairwise 거리 계산 (p=2는 Euclidean 거리)\n",
        "dist_broadcast_all = torch.cdist(test_data, train_data, p=2)  # (10000, 60000)\n",
        "\n",
        "result_all = []\n",
        "k = 5\n",
        "\n",
        "# test 샘플마다 최근접 이웃 찾기\n",
        "for i in range(len(test_data)):\n",
        "    dist = dist_broadcast_all[i]\n",
        "\n",
        "    # torch.topk()로 k개의 최근접 이웃 인덱스 선택\n",
        "    _, nearest_index = torch.topk(dist, k, largest=False)\n",
        "\n",
        "    # 해당 이웃들의 라벨 추출\n",
        "    neighbor_labels = train_labels[nearest_index]\n",
        "\n",
        "    # torch.mode()로 최빈값 라벨 결정\n",
        "    result = torch.mode(neighbor_labels, dim=0).values.item()\n",
        "    result_all.append(result)\n",
        "\n",
        "# 정확도 계산\n",
        "result_all_tensor = torch.tensor(result_all, device=device)\n",
        "differ = result_all_tensor - test_labels\n",
        "\n",
        "correct_num = (differ == 0).sum().item()\n",
        "accuracy = correct_num / len(test_labels) * 100\n",
        "\n",
        "print(f\"Results for all images: {result_all[:50]} ...\")  # 앞 50개만 출력\n",
        "print(f\"Classification accuracy: {accuracy:.3f}%\")"
      ],
      "metadata": {
        "colab": {
          "base_uri": "https://localhost:8080/"
        },
        "id": "EZwaJWzJErE2",
        "outputId": "bcbd6e95-418d-4f2f-8e66-d799f39e49f7"
      },
      "execution_count": 4,
      "outputs": [
        {
          "output_type": "stream",
          "name": "stdout",
          "text": [
            "Results for all images: [7, 2, 1, 0, 4, 1, 4, 9, 5, 9, 0, 6, 9, 0, 1, 5, 9, 7, 3, 4, 9, 6, 6, 5, 4, 0, 7, 4, 0, 1, 3, 1, 3, 0, 7, 2, 7, 1, 2, 1, 1, 7, 4, 2, 3, 5, 1, 2, 4, 4] ...\n",
            "Classification accuracy: 96.880%\n"
          ]
        }
      ]
    },
    {
      "cell_type": "markdown",
      "source": [
        "### (f) Try at least two other options for each hyperparameter. Write down your observations."
      ],
      "metadata": {
        "id": "4AAx62XlsPLD"
      }
    },
    {
      "cell_type": "code",
      "source": [
        "test_data = test_dataset.data.view(len(test_dataset), -1).float().to(device)\n",
        "test_labels = test_dataset.targets.to(device)\n",
        "\n",
        "dist_broadcast_all = torch.cdist(test_data, train_data, p=2)  # (10000, 60000)\n",
        "\n",
        "result_all = []\n",
        "k = 2\n",
        "\n",
        "for i in range(len(test_data)):\n",
        "    dist = dist_broadcast_all[i]\n",
        "\n",
        "    _, nearest_index = torch.topk(dist, k, largest=False)\n",
        "\n",
        "    neighbor_labels = train_labels[nearest_index]\n",
        "\n",
        "    result = torch.mode(neighbor_labels, dim=0).values.item()\n",
        "    result_all.append(result)\n",
        "\n",
        "result_all_tensor = torch.tensor(result_all, device=device)\n",
        "differ = result_all_tensor - test_labels\n",
        "\n",
        "correct_num = (differ == 0).sum().item()\n",
        "accuracy = correct_num / len(test_labels) * 100\n",
        "\n",
        "print(f\"Results for all images: {result_all[:50]} ...\")\n",
        "print(f\"Classification accuracy: {accuracy:.3f}%\")"
      ],
      "metadata": {
        "colab": {
          "base_uri": "https://localhost:8080/"
        },
        "id": "91wq_CXqFigI",
        "outputId": "a024263b-b371-4d96-974f-d2e9e95f247c"
      },
      "execution_count": 5,
      "outputs": [
        {
          "output_type": "stream",
          "name": "stdout",
          "text": [
            "Results for all images: [7, 2, 1, 0, 4, 1, 4, 9, 5, 9, 0, 6, 9, 0, 1, 5, 9, 7, 3, 4, 9, 6, 6, 5, 4, 0, 7, 4, 0, 1, 3, 1, 3, 0, 7, 2, 7, 1, 2, 1, 1, 7, 4, 2, 3, 5, 1, 2, 4, 4] ...\n",
            "Classification accuracy: 96.270%\n"
          ]
        }
      ]
    },
    {
      "cell_type": "code",
      "source": [
        "test_data = test_dataset.data.view(len(test_dataset), -1).float().to(device)\n",
        "test_labels = test_dataset.targets.to(device)\n",
        "\n",
        "dist_broadcast_all = torch.cdist(test_data, train_data, p=2)  # (10000, 60000)\n",
        "\n",
        "result_all = []\n",
        "k = 232\n",
        "\n",
        "for i in range(len(test_data)):\n",
        "    dist = dist_broadcast_all[i]\n",
        "\n",
        "    _, nearest_index = torch.topk(dist, k, largest=False)\n",
        "\n",
        "    neighbor_labels = train_labels[nearest_index]\n",
        "\n",
        "    result = torch.mode(neighbor_labels, dim=0).values.item()\n",
        "    result_all.append(result)\n",
        "\n",
        "result_all_tensor = torch.tensor(result_all, device=device)\n",
        "differ = result_all_tensor - test_labels\n",
        "\n",
        "correct_num = (differ == 0).sum().item()\n",
        "accuracy = correct_num / len(test_labels) * 100\n",
        "\n",
        "print(f\"Results for all images: {result_all[:50]} ...\")  # 앞 50개만 출력\n",
        "print(f\"Classification accuracy: {accuracy:.3f}%\")"
      ],
      "metadata": {
        "colab": {
          "base_uri": "https://localhost:8080/"
        },
        "id": "qPmgpGZBtAVy",
        "outputId": "65a75270-fbf4-4b59-b00a-e043de8049d6"
      },
      "execution_count": 6,
      "outputs": [
        {
          "output_type": "stream",
          "name": "stdout",
          "text": [
            "Results for all images: [7, 2, 1, 0, 4, 1, 4, 9, 5, 9, 0, 6, 9, 0, 1, 5, 9, 7, 3, 4, 9, 6, 6, 5, 4, 0, 7, 4, 0, 1, 3, 1, 3, 6, 7, 2, 7, 1, 1, 1, 1, 7, 4, 1, 3, 5, 1, 2, 4, 4] ...\n",
            "Classification accuracy: 92.490%\n"
          ]
        }
      ]
    },
    {
      "cell_type": "markdown",
      "source": [
        "## **(g)** You can try more options if you want. What is the final test accuracy?"
      ],
      "metadata": {
        "id": "2Dbl4QnDRTPs"
      }
    },
    {
      "cell_type": "code",
      "source": [
        "test_data = test_dataset.data.view(len(test_dataset), -1).float().to(device)\n",
        "test_labels = test_dataset.targets.to(device)\n",
        "\n",
        "dist_broadcast_all = torch.cdist(test_data, train_data, p=2)  # (10000, 60000)\n",
        "\n",
        "result_all = []\n",
        "k = 10\n",
        "\n",
        "for i in range(len(test_data)):\n",
        "    dist = dist_broadcast_all[i]\n",
        "\n",
        "    _, nearest_index = torch.topk(dist, k, largest=False)\n",
        "\n",
        "    neighbor_labels = train_labels[nearest_index]\n",
        "\n",
        "    result = torch.mode(neighbor_labels, dim=0).values.item()\n",
        "    result_all.append(result)\n",
        "\n",
        "result_all_tensor = torch.tensor(result_all, device=device)\n",
        "differ = result_all_tensor - test_labels\n",
        "\n",
        "correct_num = (differ == 0).sum().item()\n",
        "accuracy = correct_num / len(test_labels) * 100\n",
        "\n",
        "print(f\"Results for all images: {result_all[:50]} ...\")\n",
        "print(f\"Classification accuracy: {accuracy:.3f}%\")"
      ],
      "metadata": {
        "colab": {
          "base_uri": "https://localhost:8080/"
        },
        "id": "DOISSrCPs_Ot",
        "outputId": "e42b6462-0b0b-493f-a978-00942f8f4c9c"
      },
      "execution_count": 7,
      "outputs": [
        {
          "output_type": "stream",
          "name": "stdout",
          "text": [
            "Results for all images: [7, 2, 1, 0, 4, 1, 4, 9, 5, 9, 0, 6, 9, 0, 1, 5, 9, 7, 3, 4, 9, 6, 6, 5, 4, 0, 7, 4, 0, 1, 3, 1, 3, 0, 7, 2, 7, 1, 2, 1, 1, 7, 4, 1, 3, 5, 1, 2, 4, 4] ...\n",
            "Classification accuracy: 96.650%\n"
          ]
        }
      ]
    },
    {
      "cell_type": "code",
      "source": [
        "test_data = test_dataset.data.view(len(test_dataset), -1).float().to(device)\n",
        "test_labels = test_dataset.targets.to(device)\n",
        "\n",
        "dist_broadcast_all = torch.cdist(test_data, train_data, p=1)\n",
        "\n",
        "result_all = []\n",
        "k = 5\n",
        "\n",
        "for i in range(len(test_data)):\n",
        "    dist = dist_broadcast_all[i]\n",
        "\n",
        "    _, nearest_index = torch.topk(dist, k, largest=False)\n",
        "\n",
        "    neighbor_labels = train_labels[nearest_index]\n",
        "\n",
        "    result = torch.mode(neighbor_labels, dim=0).values.item()\n",
        "    result_all.append(result)\n",
        "\n",
        "result_all_tensor = torch.tensor(result_all, device=device)\n",
        "differ = result_all_tensor - test_labels\n",
        "\n",
        "correct_num = (differ == 0).sum().item()\n",
        "accuracy = correct_num / len(test_labels) * 100\n",
        "\n",
        "print(f\"Results for all images: {result_all[:50]} ...\")\n",
        "print(f\"Classification accuracy: {accuracy:.3f}%\")"
      ],
      "metadata": {
        "colab": {
          "base_uri": "https://localhost:8080/"
        },
        "id": "3udcR0DI466R",
        "outputId": "711e67e2-939b-48b5-f773-e11ecb82fcc3"
      },
      "execution_count": 8,
      "outputs": [
        {
          "output_type": "stream",
          "name": "stdout",
          "text": [
            "Results for all images: [7, 2, 1, 0, 4, 1, 4, 9, 5, 9, 0, 6, 9, 0, 1, 5, 9, 7, 3, 4, 9, 6, 6, 5, 9, 0, 7, 4, 0, 1, 3, 1, 3, 4, 7, 2, 7, 1, 2, 1, 1, 7, 4, 1, 3, 5, 1, 2, 4, 4] ...\n",
            "Classification accuracy: 96.180%\n"
          ]
        }
      ]
    },
    {
      "cell_type": "code",
      "source": [
        "test_data = test_dataset.data.view(len(test_dataset), -1).float().to(device)\n",
        "test_labels = test_dataset.targets.to(device)\n",
        "\n",
        "dist_broadcast_all = torch.cdist(test_data, train_data, p=1)  # (10000, 60000)\n",
        "\n",
        "result_all = []\n",
        "k = 10\n",
        "\n",
        "for i in range(len(test_data)):\n",
        "    dist = dist_broadcast_all[i]\n",
        "\n",
        "    _, nearest_index = torch.topk(dist, k, largest=False)\n",
        "\n",
        "    neighbor_labels = train_labels[nearest_index]\n",
        "\n",
        "    result = torch.mode(neighbor_labels, dim=0).values.item()\n",
        "    result_all.append(result)\n",
        "\n",
        "result_all_tensor = torch.tensor(result_all, device=device)\n",
        "differ = result_all_tensor - test_labels\n",
        "\n",
        "correct_num = (differ == 0).sum().item()\n",
        "accuracy = correct_num / len(test_labels) * 100\n",
        "\n",
        "print(f\"Results for all images: {result_all[:50]} ...\")\n",
        "print(f\"Classification accuracy: {accuracy:.3f}%\")"
      ],
      "metadata": {
        "colab": {
          "base_uri": "https://localhost:8080/"
        },
        "id": "KzeDz_2y8HES",
        "outputId": "4b255096-e8c5-4ea1-d103-3f231f2e8798"
      },
      "execution_count": 9,
      "outputs": [
        {
          "output_type": "stream",
          "name": "stdout",
          "text": [
            "Results for all images: [7, 2, 1, 0, 4, 1, 4, 9, 5, 9, 0, 6, 9, 0, 1, 5, 9, 7, 3, 4, 9, 6, 6, 5, 4, 0, 7, 4, 0, 1, 3, 1, 3, 4, 7, 2, 7, 1, 1, 1, 1, 7, 4, 1, 3, 5, 1, 2, 4, 4] ...\n",
            "Classification accuracy: 95.890%\n"
          ]
        }
      ]
    },
    {
      "cell_type": "code",
      "source": [
        "test_data = test_dataset.data.view(len(test_dataset), -1).float().to(device)\n",
        "test_labels = test_dataset.targets.to(device)\n",
        "\n",
        "dist_broadcast_all = torch.cdist(test_data, train_data, p=3)  # (10000, 60000)\n",
        "\n",
        "result_all = []\n",
        "k = 5\n",
        "\n",
        "for i in range(len(test_data)):\n",
        "    dist = dist_broadcast_all[i]\n",
        "\n",
        "    _, nearest_index = torch.topk(dist, k, largest=False)\n",
        "\n",
        "    neighbor_labels = train_labels[nearest_index]\n",
        "\n",
        "    result = torch.mode(neighbor_labels, dim=0).values.item()\n",
        "    result_all.append(result)\n",
        "\n",
        "result_all_tensor = torch.tensor(result_all, device=device)\n",
        "differ = result_all_tensor - test_labels\n",
        "\n",
        "correct_num = (differ == 0).sum().item()\n",
        "accuracy = correct_num / len(test_labels) * 100\n",
        "\n",
        "print(f\"Results for all images: {result_all[:50]} ...\")\n",
        "print(f\"Classification accuracy: {accuracy:.3f}%\")"
      ],
      "metadata": {
        "colab": {
          "base_uri": "https://localhost:8080/"
        },
        "id": "a8d0b0bEAYZb",
        "outputId": "88e8c16b-a09a-4448-b160-30c340fc901b"
      },
      "execution_count": 10,
      "outputs": [
        {
          "output_type": "stream",
          "name": "stdout",
          "text": [
            "Results for all images: [7, 2, 1, 0, 4, 1, 4, 9, 5, 9, 0, 6, 9, 0, 1, 5, 9, 7, 3, 4, 9, 6, 6, 5, 4, 0, 7, 4, 0, 1, 3, 1, 3, 0, 7, 2, 7, 1, 2, 1, 1, 7, 4, 2, 3, 5, 1, 2, 4, 4] ...\n",
            "Classification accuracy: 97.190%\n"
          ]
        }
      ]
    },
    {
      "cell_type": "markdown",
      "source": [
        "### Weighted voting"
      ],
      "metadata": {
        "id": "eC_SO5B_RgKz"
      }
    },
    {
      "cell_type": "code",
      "source": [
        "device = torch.device(\"cpu\")\n",
        "\n",
        "test_data = test_dataset.data.view(len(test_dataset), -1).float().to(device)\n",
        "test_labels = test_dataset.targets.to(device)\n",
        "\n",
        "dist_broadcast_all = torch.cdist(test_data, train_data, p=2)  # (10000, 60000)\n",
        "\n",
        "k = 5\n",
        "result_all = []\n",
        "\n",
        "for i in range(len(test_data)):  # test_data_cpu → test_data\n",
        "    dist = dist_broadcast_all[i]\n",
        "\n",
        "    topk_dist, topk_indices = torch.topk(dist, k, largest=False)\n",
        "    neighbor_labels = train_labels[topk_indices]  # train_labels_cpu → train_labels\n",
        "\n",
        "    weights = 1 / (topk_dist + 1e-8)\n",
        "\n",
        "    weighted_sum = {}\n",
        "    for lbl, w in zip(neighbor_labels.tolist(), weights.tolist()):\n",
        "        weighted_sum[lbl] = weighted_sum.get(lbl, 0) + w\n",
        "\n",
        "    predicted_label = max(weighted_sum, key=weighted_sum.get)\n",
        "    result_all.append(predicted_label)\n",
        "\n",
        "result_all_tensor = torch.tensor(result_all)\n",
        "correct_num = (result_all_tensor == test_labels).sum().item()  # test_labels_cpu → test_labels\n",
        "accuracy = correct_num / len(test_labels) * 100  # test_labels_cpu → test_labels\n",
        "\n",
        "print(f\"Results for first 10 images: {result_all[:10]} ...\")\n",
        "print(f\"Classification accuracy (Weighted Voting): {accuracy:.3f}%\")"
      ],
      "metadata": {
        "colab": {
          "base_uri": "https://localhost:8080/"
        },
        "id": "GvpgGGSjRLym",
        "outputId": "7f4eb116-ac9b-4fa0-bbdb-e1ca83c84b3a"
      },
      "execution_count": 13,
      "outputs": [
        {
          "output_type": "stream",
          "name": "stdout",
          "text": [
            "Results for first 10 images: [7, 2, 1, 0, 4, 1, 4, 9, 5, 9] ...\n",
            "Classification accuracy (Weighted Voting): 96.910%\n"
          ]
        }
      ]
    },
    {
      "cell_type": "code",
      "source": [
        "device = torch.device(\"cpu\")\n",
        "\n",
        "test_data = test_dataset.data.view(len(test_dataset), -1).float().to(device)\n",
        "test_labels = test_dataset.targets.to(device)\n",
        "\n",
        "dist_broadcast_all = torch.cdist(test_data, train_data, p=2)  # (10000, 60000)\n",
        "\n",
        "k = 10\n",
        "result_all = []\n",
        "\n",
        "for i in range(len(test_data)):  # test_data_cpu → test_data\n",
        "    dist = dist_broadcast_all[i]\n",
        "\n",
        "    topk_dist, topk_indices = torch.topk(dist, k, largest=False)\n",
        "    neighbor_labels = train_labels[topk_indices]  # train_labels_cpu → train_labels\n",
        "\n",
        "    weights = 1 / (topk_dist + 1e-8)\n",
        "\n",
        "    weighted_sum = {}\n",
        "    for lbl, w in zip(neighbor_labels.tolist(), weights.tolist()):\n",
        "        weighted_sum[lbl] = weighted_sum.get(lbl, 0) + w\n",
        "\n",
        "    predicted_label = max(weighted_sum, key=weighted_sum.get)\n",
        "    result_all.append(predicted_label)\n",
        "\n",
        "result_all_tensor = torch.tensor(result_all)\n",
        "correct_num = (result_all_tensor == test_labels).sum().item()  # test_labels_cpu → test_labels\n",
        "accuracy = correct_num / len(test_labels) * 100  # test_labels_cpu → test_labels\n",
        "\n",
        "print(f\"Results for first 10 images: {result_all[:10]} ...\")\n",
        "print(f\"Classification accuracy (Weighted Voting): {accuracy:.3f}%\")"
      ],
      "metadata": {
        "colab": {
          "base_uri": "https://localhost:8080/"
        },
        "id": "BBpJxj1aTTOx",
        "outputId": "451ca323-26a5-4e9a-bf94-a9707d0d0fee"
      },
      "execution_count": 14,
      "outputs": [
        {
          "output_type": "stream",
          "name": "stdout",
          "text": [
            "Results for first 10 images: [7, 2, 1, 0, 4, 1, 4, 9, 5, 9] ...\n",
            "Classification accuracy (Weighted Voting): 96.840%\n"
          ]
        }
      ]
    },
    {
      "cell_type": "code",
      "source": [
        "device = torch.device(\"cpu\")\n",
        "\n",
        "test_data = test_dataset.data.view(len(test_dataset), -1).float().to(device)\n",
        "test_labels = test_dataset.targets.to(device)\n",
        "\n",
        "dist_broadcast_all = torch.cdist(test_data, train_data, p=2)  # (10000, 60000)\n",
        "\n",
        "k = 20\n",
        "result_all = []\n",
        "\n",
        "for i in range(len(test_data)):  # test_data_cpu → test_data\n",
        "    dist = dist_broadcast_all[i]\n",
        "\n",
        "    topk_dist, topk_indices = torch.topk(dist, k, largest=False)\n",
        "    neighbor_labels = train_labels[topk_indices]  # train_labels_cpu → train_labels\n",
        "\n",
        "    weights = 1 / (topk_dist + 1e-8)\n",
        "\n",
        "    weighted_sum = {}\n",
        "    for lbl, w in zip(neighbor_labels.tolist(), weights.tolist()):\n",
        "        weighted_sum[lbl] = weighted_sum.get(lbl, 0) + w\n",
        "\n",
        "    predicted_label = max(weighted_sum, key=weighted_sum.get)\n",
        "    result_all.append(predicted_label)\n",
        "\n",
        "result_all_tensor = torch.tensor(result_all)\n",
        "correct_num = (result_all_tensor == test_labels).sum().item()  # test_labels_cpu → test_labels\n",
        "accuracy = correct_num / len(test_labels) * 100  # test_labels_cpu → test_labels\n",
        "\n",
        "print(f\"Results for first 10 images: {result_all[:10]} ...\")\n",
        "print(f\"Classification accuracy (Weighted Voting): {accuracy:.3f}%\")"
      ],
      "metadata": {
        "colab": {
          "base_uri": "https://localhost:8080/"
        },
        "id": "e_-Y3P13TgDV",
        "outputId": "c6e53afe-890b-4a0f-aad7-f595d3f995f9"
      },
      "execution_count": 15,
      "outputs": [
        {
          "output_type": "stream",
          "name": "stdout",
          "text": [
            "Results for first 10 images: [7, 2, 1, 0, 4, 1, 4, 9, 5, 9] ...\n",
            "Classification accuracy (Weighted Voting): 96.330%\n"
          ]
        }
      ]
    }
  ]
}